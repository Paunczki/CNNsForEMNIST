{
  "cells": [
    {
      "cell_type": "markdown",
      "source": [
        "Comp 388/487 - Project 1\n",
        "\n",
        "\n",
        "Team-3\n",
        "Monica Sieklucki (msieklucki), John Mikos (jmikos), Bhargvi Handa (bhanda)"
      ],
      "metadata": {
        "id": "7MReQUcnXKZ6"
      }
    },
    {
      "cell_type": "code",
      "execution_count": 1,
      "metadata": {
        "id": "UQnP1-9gUN5o",
        "colab": {
          "base_uri": "https://localhost:8080/"
        },
        "outputId": "a8ba85d8-bf0e-410f-9754-2362e10a6cc5"
      },
      "outputs": [
        {
          "output_type": "stream",
          "name": "stdout",
          "text": [
            "Collecting python-mnist\n",
            "  Downloading python_mnist-0.7-py2.py3-none-any.whl (9.6 kB)\n",
            "Installing collected packages: python-mnist\n",
            "Successfully installed python-mnist-0.7\n",
            "--2022-03-24 23:22:58--  https://www.itl.nist.gov/iaui/vip/cs_links/EMNIST/gzip.zip\n",
            "Resolving www.itl.nist.gov (www.itl.nist.gov)... 129.6.13.19, 2610:20:6005:13::19\n",
            "Connecting to www.itl.nist.gov (www.itl.nist.gov)|129.6.13.19|:443... connected.\n",
            "WARNING: cannot verify www.itl.nist.gov's certificate, issued by ‘CN=DigiCert TLS RSA SHA256 2020 CA1,O=DigiCert Inc,C=US’:\n",
            "  Issued certificate has expired.\n",
            "HTTP request sent, awaiting response... 200 OK\n",
            "Length: 561753746 (536M) [application/zip]\n",
            "Saving to: ‘gzip.zip’\n",
            "\n",
            "gzip.zip            100%[===================>] 535.73M  16.5MB/s    in 34s     \n",
            "\n",
            "2022-03-24 23:23:33 (15.7 MB/s) - ‘gzip.zip’ saved [561753746/561753746]\n",
            "\n"
          ]
        }
      ],
      "source": [
        "!pip install python-mnist\n",
        "import tensorflow as tf\n",
        "import pandas as pd\n",
        "import keras\n",
        "import numpy as np\n",
        "\n",
        "from keras.models import Sequential\n",
        "from tensorflow.keras.layers import Dense, Conv2D, Flatten,AveragePooling2D, MaxPooling2D, GlobalAveragePooling2D,Dropout\n",
        "\n",
        "# Data source for the EMNIST dataset which we will need to unzip\n",
        "!wget https://www.itl.nist.gov/iaui/vip/cs_links/EMNIST/gzip.zip --no-check-certificate"
      ]
    },
    {
      "cell_type": "code",
      "execution_count": 2,
      "metadata": {
        "id": "cKV8wR1c1MBz"
      },
      "outputs": [],
      "source": [
        "# Update .zip + .# based on what was installed above\n",
        "!unzip -qq ./gzip.zip"
      ]
    },
    {
      "cell_type": "code",
      "execution_count": 3,
      "metadata": {
        "id": "efJmNBNOWQKo"
      },
      "outputs": [],
      "source": [
        "!mv gzip data\n",
        "# we will only use test as total dataset is EMNIST ByClass: 814,255 characters. 62 unbalanced classes\n",
        "# If you use local machine that has more ram > ~12 gb\n",
        "# !gunzip ./data/emnist-byclass-train-images-idx3-ubyte.gz \n",
        "# !gunzip ./data/emnist-byclass-train-labels-idx1-ubyte.gz\n",
        "!gunzip ./data/emnist-byclass-test-images-idx3-ubyte.gz \n",
        "!gunzip ./data/emnist-byclass-test-labels-idx1-ubyte.gz"
      ]
    },
    {
      "cell_type": "code",
      "execution_count": 4,
      "metadata": {
        "id": "yzKx43QUURyL",
        "colab": {
          "base_uri": "https://localhost:8080/",
          "height": 480
        },
        "outputId": "661061f2-0ceb-4d3f-9d5b-4a6d9afb9bf0"
      },
      "outputs": [
        {
          "output_type": "stream",
          "name": "stdout",
          "text": [
            "mnist X train shape: (77936, 28, 28, 1)\n",
            "mnist X test shape: (38387, 28, 28, 1)\n",
            "mnist y train shape: (77936, 62)\n",
            "mnist y test shape: (38387, 62)\n"
          ]
        },
        {
          "output_type": "execute_result",
          "data": {
            "text/plain": [
              "\"\\n# Images in folder data\\nmndata = MNIST('data')\\n\\n# This will load emnist dataset\\n# emnist_x_train, emnist_y_train = mndata.load('./data/emnist-byclass-train-images-idx3-ubyte', './data/emnist-byclass-train-labels-idx1-ubyte')\\n# Removing test as runtime cant handle both\\nemnist_x_test, emnist_y_test = mndata.load('./data/emnist-byclass-test-images-idx3-ubyte', './data/emnist-byclass-test-labels-idx1-ubyte')\\n\\nprint(type(emnist_x_test))\\nprint(type(emnist_x_test[0]))\\n\\n# Convert data to numpy arrays and normalize images to the interval [0, 1]\\nRun time on colab cant run both\\nn_elem = len(emnist_x_train)\\nemnist_x_train = np.array(emnist_x_train).reshape(n_elem,28,28).transpose(0,2,1).reshape(n_elem,28**2) / 255.0\\nemnist_y_train = np.array(emnist_y_train)\\n\\nn_elem = len(emnist_x_test)\\nemnist_x_test = np.array(emnist_x_test).reshape(n_elem,28,28).transpose(0,2,1).reshape(n_elem,28**2) / 255.0\\nemnist_y_test = np.array(emnist_y_test)\\n\\nfrom matplotlib import pyplot as plt\\nplt.imshow(emnist_x_test[0].reshape(28,28))\\nplt.show\\n\\n# Get labels mapping (index in emnist_y_test to character value)\\nemnist_labels = map(lambda x: x.strip('\\r').split(' '), open('./data/emnist-byclass-mapping.txt').read().strip().split('\\n'))\\nemnist_labels = dict(emnist_labels)\\n\""
            ],
            "application/vnd.google.colaboratory.intrinsic+json": {
              "type": "string"
            }
          },
          "metadata": {},
          "execution_count": 4
        },
        {
          "output_type": "display_data",
          "data": {
            "text/plain": [
              "<Figure size 432x288 with 1 Axes>"
            ],
            "image/png": "[encoded data removed]"
          },
          "metadata": {
            "needs_background": "light"
          }
        }
      ],
      "source": [
        "# modified from: https://github.com/MatchLab-Imperial/deep-learning-course/blob/master/06_Autoencoders.ipynb\n",
        "from mnist import MNIST\n",
        "from sklearn.model_selection import train_test_split\n",
        "from tensorflow.keras.utils import to_categorical\n",
        "\n",
        "mndata = MNIST('data')\n",
        "\n",
        "# This will load emnist dataset\n",
        "#emnist_x_train, emnist_y_train = mndata.load('./data/emnist-byclass-train-images-idx3-ubyte', './data/emnist-byclass-train-labels-idx1-ubyte')\n",
        "# Removing test as runtime cant handle both\n",
        "X, y = mndata.load('./data/emnist-byclass-test-images-idx3-ubyte', './data/emnist-byclass-test-labels-idx1-ubyte')\n",
        "\n",
        "emnist_x_train, emnist_x_test, emnist_y_train, emnist_y_test = train_test_split(X, y, test_size=0.33, random_state=42)\n",
        "# Convert data to numpy arrays and normalize images to the interval [0, 1]\n",
        "emnist_x_train = np.array(emnist_x_train) / 255.0\n",
        "emnist_y_train = np.array(emnist_y_train)\n",
        "emnist_x_test = np.array(emnist_x_test) / 255.0\n",
        "emnist_y_test = np.array(emnist_y_test)\n",
        "\n",
        "#Reshaping all images into 28*28 for pre-processing\n",
        "emnist_x_train = emnist_x_train.reshape(emnist_x_train.shape[0], 28, 28, 1)\n",
        "emnist_x_test = emnist_x_test.reshape(emnist_x_test.shape[0], 28, 28, 1)\n",
        "\n",
        "\n",
        "emnist_y_train = to_categorical(emnist_y_train, 62)\n",
        "emnist_y_test = to_categorical(emnist_y_test, 62)\n",
        "\n",
        "#Print train and test shape\n",
        "print(\"mnist X train shape: \" + str(emnist_x_train.shape))\n",
        "print(\"mnist X test shape: \" + str(emnist_x_test.shape))\n",
        "\n",
        "print(\"mnist y train shape: \" + str(emnist_y_train.shape))\n",
        "print(\"mnist y test shape: \" + str(emnist_y_test.shape))\n",
        "\n",
        "#Display a random image\n",
        "from matplotlib import pyplot as plt\n",
        "plt.imshow(emnist_x_train[10].reshape(28,28))\n",
        "plt.show"
      ]
    },
    {
      "cell_type": "markdown",
      "metadata": {
        "id": "tvUnMJneVULb"
      },
      "source": [
        "Now to try CNN models!"
      ]
    },
    {
      "cell_type": "code",
      "source": [
        "#Print train and test shape\n",
        "print(\"mnist X train shape: \" + str(emnist_x_train.shape))\n",
        "print(\"mnist X test shape: \" + str(emnist_x_test.shape))\n",
        "\n",
        "print(\"mnist y train shape: \" + str(emnist_y_train.shape))\n",
        "print(\"mnist y test shape: \" + str(emnist_y_test.shape))"
      ],
      "metadata": {
        "colab": {
          "base_uri": "https://localhost:8080/"
        },
        "id": "FdrpYmXYUnBs",
        "outputId": "a57a3d30-86dd-47bd-a268-be14197ab1c2"
      },
      "execution_count": 9,
      "outputs": [
        {
          "output_type": "stream",
          "name": "stdout",
          "text": [
            "mnist X train shape: (77936, 28, 28, 1)\n",
            "mnist X test shape: (38387, 28, 28, 1)\n",
            "mnist y train shape: (77936, 62)\n",
            "mnist y test shape: (38387, 62)\n"
          ]
        }
      ]
    },
    {
      "cell_type": "markdown",
      "metadata": {
        "id": "bwM5JF2YobZv"
      },
      "source": [
        "LeNet5"
      ]
    },
    {
      "cell_type": "code",
      "execution_count": 7,
      "metadata": {
        "colab": {
          "base_uri": "https://localhost:8080/",
          "height": 89
        },
        "id": "HCAHFYI8VWch",
        "outputId": "330694e3-f5ac-4641-961a-3a0c8b449bf7"
      },
      "outputs": [
        {
          "output_type": "execute_result",
          "data": {
            "text/plain": [
              "'\\nlenet5 = tf.keras.models.Sequential()\\n#add model layers\\nlenet5.add(Conv2D(filters=6, kernel_size=(3,3)), activation=\"relu\", input_shape=(28, 28, 1))\\nlenet5.add(AveragePooling2D(pool_size=(2,2), strides=2))\\nlenet5.add(Conv2D(filters=16, kernel_size=(3,3), activation=\"relu\", input_shape=(28, 28, 1)))\\nlenet5.add(AveragePooling2D(pool_size=(2,2), strides=2))\\nlenet5.add(Flatten())\\nlenet5.add(Dense(120, activation=\\'sigmoid\\'))\\nlenet5.add(Dense(84, activation=\\'sigmoid\\'))\\nlenet5.add(Dense(47, activation=\"softmax\"))\\n'"
            ],
            "application/vnd.google.colaboratory.intrinsic+json": {
              "type": "string"
            }
          },
          "metadata": {},
          "execution_count": 7
        }
      ],
      "source": [
        "#create model\n",
        "lenet5 = tf.keras.models.Sequential([\n",
        "            tf.keras.layers.Conv2D(filters=6, kernel_size=(3,3), activation=\"relu\", input_shape=(28, 28, 1)),\n",
        "            tf.keras.layers.AveragePooling2D(pool_size=(2,2), strides=2),\n",
        "            tf.keras.layers.Conv2D(filters=16, kernel_size=(3,3), activation=\"relu\", input_shape=(28, 28, 1)),\n",
        "            tf.keras.layers.AveragePooling2D(pool_size=(2,2), strides=2),\n",
        "            tf.keras.layers.Flatten(),\n",
        "            tf.keras.layers.Dense(120, activation='sigmoid'),\n",
        "            tf.keras.layers.Dense(84, activation='sigmoid'),\n",
        "            tf.keras.layers.Dense(62, activation=\"softmax\")])"
      ]
    },
    {
      "cell_type": "code",
      "execution_count": 8,
      "metadata": {
        "colab": {
          "base_uri": "https://localhost:8080/"
        },
        "id": "4GT4ldAKoe0C",
        "outputId": "57d13894-38b6-4bc8-9a1d-cb0c24462436"
      },
      "outputs": [
        {
          "output_type": "stream",
          "name": "stdout",
          "text": [
            "Epoch 1/25\n",
            "609/609 [==============================] - 14s 7ms/step - loss: 2.1233 - accuracy: 0.4979\n",
            "Epoch 2/25\n",
            "609/609 [==============================] - 4s 7ms/step - loss: 1.0160 - accuracy: 0.7167\n",
            "Epoch 3/25\n",
            "609/609 [==============================] - 4s 6ms/step - loss: 0.7729 - accuracy: 0.7664\n",
            "Epoch 4/25\n",
            "609/609 [==============================] - 4s 6ms/step - loss: 0.6758 - accuracy: 0.7878\n",
            "Epoch 5/25\n",
            "609/609 [==============================] - 4s 6ms/step - loss: 0.6202 - accuracy: 0.8011\n",
            "Epoch 6/25\n",
            "609/609 [==============================] - 4s 6ms/step - loss: 0.5804 - accuracy: 0.8099\n",
            "Epoch 7/25\n",
            "609/609 [==============================] - 4s 6ms/step - loss: 0.5520 - accuracy: 0.8165\n",
            "Epoch 8/25\n",
            "609/609 [==============================] - 4s 6ms/step - loss: 0.5286 - accuracy: 0.8230\n",
            "Epoch 9/25\n",
            "609/609 [==============================] - 4s 6ms/step - loss: 0.5077 - accuracy: 0.8277\n",
            "Epoch 10/25\n",
            "609/609 [==============================] - 4s 7ms/step - loss: 0.4926 - accuracy: 0.8327\n",
            "Epoch 11/25\n",
            "609/609 [==============================] - 4s 6ms/step - loss: 0.4776 - accuracy: 0.8362\n",
            "Epoch 12/25\n",
            "609/609 [==============================] - 4s 6ms/step - loss: 0.4643 - accuracy: 0.8398\n",
            "Epoch 13/25\n",
            "609/609 [==============================] - 4s 6ms/step - loss: 0.4532 - accuracy: 0.8424\n",
            "Epoch 14/25\n",
            "609/609 [==============================] - 4s 7ms/step - loss: 0.4423 - accuracy: 0.8448\n",
            "Epoch 15/25\n",
            "609/609 [==============================] - 4s 7ms/step - loss: 0.4320 - accuracy: 0.8486\n",
            "Epoch 16/25\n",
            "609/609 [==============================] - 4s 6ms/step - loss: 0.4224 - accuracy: 0.8497\n",
            "Epoch 17/25\n",
            "609/609 [==============================] - 4s 6ms/step - loss: 0.4138 - accuracy: 0.8525\n",
            "Epoch 18/25\n",
            "609/609 [==============================] - 4s 6ms/step - loss: 0.4058 - accuracy: 0.8560\n",
            "Epoch 19/25\n",
            "609/609 [==============================] - 4s 6ms/step - loss: 0.3974 - accuracy: 0.8574\n",
            "Epoch 20/25\n",
            "609/609 [==============================] - 4s 6ms/step - loss: 0.3912 - accuracy: 0.8590\n",
            "Epoch 21/25\n",
            "609/609 [==============================] - 4s 6ms/step - loss: 0.3841 - accuracy: 0.8616\n",
            "Epoch 22/25\n",
            "609/609 [==============================] - 4s 6ms/step - loss: 0.3774 - accuracy: 0.8630\n",
            "Epoch 23/25\n",
            "609/609 [==============================] - 4s 6ms/step - loss: 0.3714 - accuracy: 0.8649\n",
            "Epoch 24/25\n",
            "609/609 [==============================] - 4s 6ms/step - loss: 0.3669 - accuracy: 0.8658\n",
            "Epoch 25/25\n",
            "609/609 [==============================] - 4s 6ms/step - loss: 0.3609 - accuracy: 0.8687\n",
            "Evaluate on test data\n",
            "300/300 [==============================] - 2s 4ms/step - loss: 0.5160 - accuracy: 0.8213\n",
            "test loss, test acc: [0.515990138053894, 0.8213457465171814]\n"
          ]
        }
      ],
      "source": [
        "# compile model using accuracy to measure model performance\n",
        "lenet5.compile(optimizer='adam', loss='categorical_crossentropy', metrics=['accuracy'])\n",
        "\n",
        "# train the model\n",
        "lenet5.fit(emnist_x_train, emnist_y_train, epochs=25, batch_size=128)\n",
        "# Evaluate the model on the test data using `evaluate`\n",
        "print(\"Evaluate on test data\")\n",
        "results = lenet5.evaluate(emnist_x_test, emnist_y_test, batch_size=128)\n",
        "print(\"test loss, test acc:\", results)"
      ]
    },
    {
      "cell_type": "markdown",
      "metadata": {
        "id": "a-EzdXZgojei"
      },
      "source": [
        "AlexNet"
      ]
    },
    {
      "cell_type": "code",
      "execution_count": 10,
      "metadata": {
        "id": "LHxJkKReokRn"
      },
      "outputs": [],
      "source": [
        "#create model\n",
        "alexnet = Sequential()\n",
        "#add model layers\n",
        "alexnet.add(Conv2D(96, kernel_size=(5,5), activation=\"relu\", input_shape=(28, 28, 1)))\n",
        "alexnet.add(MaxPooling2D(pool_size=(2,2), strides=2))\n",
        "alexnet.add(Conv2D(256, kernel_size=(5,5), padding=\"same\", activation=\"relu\"))\n",
        "alexnet.add(MaxPooling2D(pool_size=(2,2), strides=2))\n",
        "alexnet.add(Conv2D(384, kernel_size=(3,3), padding=\"same\", activation=\"relu\"))\n",
        "alexnet.add(Conv2D(384, kernel_size=(3,3), padding=\"same\", activation=\"relu\"))\n",
        "alexnet.add(Conv2D(256, kernel_size=(3,3), padding=\"same\", activation=\"relu\"))\n",
        "alexnet.add(MaxPooling2D(pool_size=(2,2), strides=2))\n",
        "alexnet.add(Flatten())\n",
        "alexnet.add(Dense(120, activation='relu'))\n",
        "alexnet.add(Dropout(0.5))\n",
        "alexnet.add(Dense(84, activation='relu'))\n",
        "alexnet.add(Dropout(0.5))\n",
        "alexnet.add(Dense(62, activation=\"softmax\"))"
      ]
    },
    {
      "cell_type": "code",
      "execution_count": 11,
      "metadata": {
        "colab": {
          "base_uri": "https://localhost:8080/"
        },
        "id": "gbK5qpxQomj_",
        "outputId": "f39655a3-4684-479b-fc8a-2fd501bb93a7"
      },
      "outputs": [
        {
          "output_type": "stream",
          "name": "stdout",
          "text": [
            "Epoch 1/25\n",
            "609/609 [==============================] - 39s 59ms/step - loss: 2.2656 - accuracy: 0.4104\n",
            "Epoch 2/25\n",
            "609/609 [==============================] - 35s 58ms/step - loss: 1.1165 - accuracy: 0.6664\n",
            "Epoch 3/25\n",
            "609/609 [==============================] - 36s 58ms/step - loss: 0.8734 - accuracy: 0.7277\n",
            "Epoch 4/25\n",
            "609/609 [==============================] - 35s 58ms/step - loss: 0.7480 - accuracy: 0.7595\n",
            "Epoch 5/25\n",
            "609/609 [==============================] - 37s 61ms/step - loss: 0.6663 - accuracy: 0.7778\n",
            "Epoch 6/25\n",
            "609/609 [==============================] - 35s 58ms/step - loss: 0.6244 - accuracy: 0.7920\n",
            "Epoch 7/25\n",
            "609/609 [==============================] - 35s 58ms/step - loss: 0.5798 - accuracy: 0.8040\n",
            "Epoch 8/25\n",
            "609/609 [==============================] - 35s 58ms/step - loss: 0.5443 - accuracy: 0.8131\n",
            "Epoch 9/25\n",
            "609/609 [==============================] - 35s 58ms/step - loss: 0.5169 - accuracy: 0.8206\n",
            "Epoch 10/25\n",
            "609/609 [==============================] - 36s 59ms/step - loss: 0.4879 - accuracy: 0.8286\n",
            "Epoch 11/25\n",
            "609/609 [==============================] - 35s 58ms/step - loss: 0.4716 - accuracy: 0.8340\n",
            "Epoch 12/25\n",
            "609/609 [==============================] - 35s 58ms/step - loss: 0.4494 - accuracy: 0.8392\n",
            "Epoch 13/25\n",
            "609/609 [==============================] - 35s 58ms/step - loss: 0.4319 - accuracy: 0.8437\n",
            "Epoch 14/25\n",
            "609/609 [==============================] - 35s 58ms/step - loss: 0.4174 - accuracy: 0.8473\n",
            "Epoch 15/25\n",
            "609/609 [==============================] - 35s 58ms/step - loss: 0.4084 - accuracy: 0.8501\n",
            "Epoch 16/25\n",
            "609/609 [==============================] - 36s 58ms/step - loss: 0.4023 - accuracy: 0.8522\n",
            "Epoch 17/25\n",
            "609/609 [==============================] - 35s 58ms/step - loss: 0.3814 - accuracy: 0.8581\n",
            "Epoch 18/25\n",
            "609/609 [==============================] - 35s 58ms/step - loss: 0.3856 - accuracy: 0.8585\n",
            "Epoch 19/25\n",
            "609/609 [==============================] - 35s 58ms/step - loss: 0.3704 - accuracy: 0.8618\n",
            "Epoch 20/25\n",
            "609/609 [==============================] - 35s 58ms/step - loss: 0.3602 - accuracy: 0.8629\n",
            "Epoch 21/25\n",
            "609/609 [==============================] - 35s 58ms/step - loss: 0.3589 - accuracy: 0.8658\n",
            "Epoch 22/25\n",
            "609/609 [==============================] - 35s 57ms/step - loss: 0.3581 - accuracy: 0.8665\n",
            "Epoch 23/25\n",
            "609/609 [==============================] - 35s 57ms/step - loss: 0.3476 - accuracy: 0.8692\n",
            "Epoch 24/25\n",
            "609/609 [==============================] - 35s 57ms/step - loss: 0.3389 - accuracy: 0.8716\n",
            "Epoch 25/25\n",
            "609/609 [==============================] - 35s 58ms/step - loss: 0.3293 - accuracy: 0.8746\n",
            "Evaluate on test data\n",
            "300/300 [==============================] - 7s 23ms/step - loss: 0.5754 - accuracy: 0.8500\n",
            "test loss, test acc: [0.5753782987594604, 0.8500012755393982]\n"
          ]
        }
      ],
      "source": [
        "# compile model using accuracy to measure model performance\n",
        "alexnet.compile(optimizer='adam', loss='categorical_crossentropy', metrics=['accuracy'])\n",
        "\n",
        "# train the model\n",
        "alexnet.fit(emnist_x_train, emnist_y_train, epochs=25, batch_size=128)\n",
        "\n",
        "# Evaluate the model on the test data using `evaluate`\n",
        "print(\"Evaluate on test data\")\n",
        "results = alexnet.evaluate(emnist_x_test, emnist_y_test, batch_size=128)\n",
        "print(\"test loss, test acc:\", results)"
      ]
    },
    {
      "cell_type": "code",
      "execution_count": 12,
      "metadata": {
        "id": "TJsiwAFQopyz",
        "colab": {
          "base_uri": "https://localhost:8080/"
        },
        "outputId": "062b0fdc-e3df-4a96-da16-8e3ec009cd2a"
      },
      "outputs": [
        {
          "output_type": "stream",
          "name": "stdout",
          "text": [
            "300/300 [==============================] - 6s 21ms/step - loss: 0.5754 - accuracy: 0.8500\n"
          ]
        }
      ],
      "source": [
        "results = alexnet.evaluate(emnist_x_test, emnist_y_test, batch_size=128)"
      ]
    },
    {
      "cell_type": "markdown",
      "metadata": {
        "id": "R1teBKOyora7"
      },
      "source": [
        "VGG 16"
      ]
    },
    {
      "cell_type": "code",
      "execution_count": 13,
      "metadata": {
        "id": "l4ilwgq0otTf"
      },
      "outputs": [],
      "source": [
        "#create model\n",
        "vgg16 = Sequential()\n",
        "#add model layers\n",
        "vgg16.add(Conv2D(96, kernel_size=(5,5), activation=\"relu\", input_shape=(28, 28, 1)))\n",
        "vgg16.add(MaxPooling2D(pool_size=(2,2), strides=2))\n",
        "vgg16.add(Conv2D(256, kernel_size=(5,5), padding=\"same\", activation=\"relu\"))\n",
        "vgg16.add(MaxPooling2D(pool_size=(2,2), strides=2))\n",
        "vgg16.add(Conv2D(384, kernel_size=(3,3), padding=\"same\", activation=\"relu\"))\n",
        "vgg16.add(Conv2D(384, kernel_size=(3,3), padding=\"same\", activation=\"relu\"))\n",
        "vgg16.add(Conv2D(256, kernel_size=(3,3), padding=\"same\", activation=\"relu\"))\n",
        "vgg16.add(MaxPooling2D(pool_size=(2,2), strides=2))\n",
        "vgg16.add(Flatten())\n",
        "vgg16.add(Dense(120, activation='relu'))\n",
        "vgg16.add(Dropout(0.5))\n",
        "vgg16.add(Dense(84, activation='relu'))\n",
        "vgg16.add(Dropout(0.5))\n",
        "vgg16.add(Dense(62, activation=\"softmax\"))"
      ]
    },
    {
      "cell_type": "code",
      "execution_count": 14,
      "metadata": {
        "id": "rEa92lH2ouL0",
        "colab": {
          "base_uri": "https://localhost:8080/"
        },
        "outputId": "67411eb4-d4cc-4867-f4a2-2976081a467d"
      },
      "outputs": [
        {
          "output_type": "stream",
          "name": "stdout",
          "text": [
            "Epoch 1/25\n",
            "609/609 [==============================] - 36s 58ms/step - loss: 2.0426 - accuracy: 0.4685\n",
            "Epoch 2/25\n",
            "609/609 [==============================] - 35s 58ms/step - loss: 1.0108 - accuracy: 0.6945\n",
            "Epoch 3/25\n",
            "609/609 [==============================] - 35s 57ms/step - loss: 0.8022 - accuracy: 0.7459\n",
            "Epoch 4/25\n",
            "609/609 [==============================] - 35s 57ms/step - loss: 0.7064 - accuracy: 0.7690\n",
            "Epoch 5/25\n",
            "609/609 [==============================] - 35s 57ms/step - loss: 0.6454 - accuracy: 0.7857\n",
            "Epoch 6/25\n",
            "609/609 [==============================] - 35s 57ms/step - loss: 0.5850 - accuracy: 0.8017\n",
            "Epoch 7/25\n",
            "609/609 [==============================] - 35s 57ms/step - loss: 0.5466 - accuracy: 0.8106\n",
            "Epoch 8/25\n",
            "609/609 [==============================] - 35s 57ms/step - loss: 0.5186 - accuracy: 0.8195\n",
            "Epoch 9/25\n",
            "609/609 [==============================] - 35s 57ms/step - loss: 0.4905 - accuracy: 0.8266\n",
            "Epoch 10/25\n",
            "609/609 [==============================] - 36s 58ms/step - loss: 0.4709 - accuracy: 0.8324\n",
            "Epoch 11/25\n",
            "609/609 [==============================] - 36s 59ms/step - loss: 0.4507 - accuracy: 0.8388\n",
            "Epoch 12/25\n",
            "609/609 [==============================] - 36s 59ms/step - loss: 0.4325 - accuracy: 0.8427\n",
            "Epoch 13/25\n",
            "609/609 [==============================] - 35s 57ms/step - loss: 0.4211 - accuracy: 0.8458\n",
            "Epoch 14/25\n",
            "609/609 [==============================] - 35s 57ms/step - loss: 0.4082 - accuracy: 0.8487\n",
            "Epoch 15/25\n",
            "609/609 [==============================] - 35s 57ms/step - loss: 0.3972 - accuracy: 0.8512\n",
            "Epoch 16/25\n",
            "609/609 [==============================] - 35s 57ms/step - loss: 0.3828 - accuracy: 0.8558\n",
            "Epoch 17/25\n",
            "609/609 [==============================] - 35s 57ms/step - loss: 0.3809 - accuracy: 0.8570\n",
            "Epoch 18/25\n",
            "609/609 [==============================] - 35s 57ms/step - loss: 0.3732 - accuracy: 0.8595\n",
            "Epoch 19/25\n",
            "609/609 [==============================] - 35s 57ms/step - loss: 0.3675 - accuracy: 0.8623\n",
            "Epoch 20/25\n",
            "609/609 [==============================] - 35s 57ms/step - loss: 0.3576 - accuracy: 0.8630\n",
            "Epoch 21/25\n",
            "609/609 [==============================] - 35s 57ms/step - loss: 0.3490 - accuracy: 0.8656\n",
            "Epoch 22/25\n",
            "609/609 [==============================] - 35s 57ms/step - loss: 0.3354 - accuracy: 0.8702\n",
            "Epoch 23/25\n",
            "609/609 [==============================] - 36s 59ms/step - loss: 0.3427 - accuracy: 0.8693\n",
            "Epoch 24/25\n",
            "609/609 [==============================] - 36s 58ms/step - loss: 0.3332 - accuracy: 0.8724\n",
            "Epoch 25/25\n",
            "609/609 [==============================] - 35s 58ms/step - loss: 0.3337 - accuracy: 0.8735\n",
            "Evaluate on test data\n",
            "300/300 [==============================] - 7s 21ms/step - loss: 0.5848 - accuracy: 0.8471\n",
            "test loss, test acc: [0.5847527384757996, 0.8471357226371765]\n"
          ]
        }
      ],
      "source": [
        "# compile model using accuracy to measure model performance\n",
        "vgg16.compile(optimizer='adam', loss='categorical_crossentropy', metrics=['accuracy'])\n",
        "\n",
        "# train the model\n",
        "vgg16.fit(emnist_x_train, emnist_y_train, epochs=25, batch_size=128)\n",
        "\n",
        "# Evaluate the model on the test data using `evaluate`\n",
        "print(\"Evaluate on test data\")\n",
        "results = vgg16.evaluate(emnist_x_test, emnist_y_test, batch_size=128)\n",
        "print(\"test loss, test acc:\", results)"
      ]
    },
    {
      "cell_type": "markdown",
      "metadata": {
        "id": "touwFiA6oxgB"
      },
      "source": [
        "License Plate - Expanding/Using this project\n"
      ]
    },
    {
      "cell_type": "markdown",
      "metadata": {
        "id": "87fhaabq0jwB"
      },
      "source": [
        "This would be next step of process. What would need to be done is to create letters or digits that are of size 28x28. Can use programs like detecto to create bounding boxes/find shapes and then from there do one at a time but keep order consistent. This is beyond scope of this project but we still showcase the real world application\n",
        " ---\n",
        "Dataset + sample code for detecto here:\n",
        "https://www.kaggle.com/francescopettini/license-plate-characters-detection-ocr"
      ]
    }
  ],
  "metadata": {
    "accelerator": "GPU",
    "colab": {
      "collapsed_sections": [],
      "name": "COMP_487_Project1.ipynb",
      "provenance": []
    },
    "kernelspec": {
      "display_name": "Python 3",
      "name": "python3"
    },
    "language_info": {
      "name": "python"
    }
  },
  "nbformat": 4,
  "nbformat_minor": 0
}